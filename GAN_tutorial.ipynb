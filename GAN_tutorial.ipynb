{
  "nbformat": 4,
  "nbformat_minor": 0,
  "metadata": {
    "colab": {
      "name": "GAN_tutorial.ipynb",
      "version": "0.3.2",
      "provenance": [],
      "collapsed_sections": [],
      "include_colab_link": true
    },
    "kernelspec": {
      "name": "python3",
      "display_name": "Python 3"
    }
  },
  "cells": [
    {
      "cell_type": "markdown",
      "metadata": {
        "id": "view-in-github",
        "colab_type": "text"
      },
      "source": [
        "<a href=\"https://colab.research.google.com/github/sagihaider/GAN/blob/master/GAN_tutorial.ipynb\" target=\"_parent\"><img src=\"https://colab.research.google.com/assets/colab-badge.svg\" alt=\"Open In Colab\"/></a>"
      ]
    },
    {
      "cell_type": "markdown",
      "metadata": {
        "id": "KjSC3A5abRA8",
        "colab_type": "text"
      },
      "source": [
        "## Generative Adversarial Networks (GAN)"
      ]
    },
    {
      "cell_type": "markdown",
      "metadata": {
        "id": "o3-Cua3mcDPt",
        "colab_type": "text"
      },
      "source": [
        "How should  I start about Generative Adversarial Networks (GAN):\n",
        "\n",
        "In 2016, *Yann LeChun, Director Facebook AI, said \"Generative Adversarial Networks is the most intersting in the last 10 years of machine learning.\" "
      ]
    },
    {
      "cell_type": "markdown",
      "metadata": {
        "id": "xtn8vmisb9rs",
        "colab_type": "text"
      },
      "source": [
        "#### Discriminative vs Generative Models\n",
        "\n",
        "In supervised learning problem:\n",
        "\n",
        "1. X: is generally knows as a set of features, inputs, covariates\n",
        "2. Y: is knows as a set of labels, targets, ground truth\n",
        "\n",
        "(X, Y) → (features, labels) / (inputs, targets)\n",
        "\n",
        "\n",
        "**Discriminative**\n",
        "\n",
        "Given inputs, we want to build a model that can classify the inputs to the corresponding targets as correct as possible.\n",
        "\n",
        "* Given `X` features this mail is `SPAM` or `Not` ?? It learns the conditional probability distribution. \n",
        "\n",
        "`P(Y|X)` -\"the probability of Y given X should be maximum.\n",
        "\n",
        "In other words, the model learns to predict the labels from the data. We can also say, it learns the decision boundary between two or multiple classes.\n",
        "\n",
        "* Point to note here: It does not really care about “How the training data is generated/distributed.\n",
        "\n",
        "Ex: Logistic Regression (LR), Support Vector Machine (SVM), conditional random fields (CRFs)\n",
        "\n",
        "**Generative**\n",
        "\n",
        "Given inputs, we want to build a model that can understand the inputs to generate similar inputs and it’s labels from the targets .\n",
        "\n",
        "According to Wiki: Given an observable variable `X` and a target variable `Y`, a generative model is a statistical model of the joint probability distribution on `X` × `Y`,  `P(X,Y)`\n",
        "\n",
        "* Assume this mail is SPAM, what likely are these features ?? or how does a spam email look like???\n",
        "it learns the joint probability distribution.\n",
        "\n",
        "`P(X,Y) = p(Y|X).p(X)`\n",
        "\n",
        "The model has to learn `P(X)`. It cares about “How the training data is generated/distributed\" and it cares about how to get `X`?\n",
        "\n",
        "* I found an intersting figure, which may helps you to get an idea what I have said above ![alt text](https://i.stack.imgur.com/Xrmqg.png) [Ref to figure](https://stackoverflow.com/questions/879432/what-is-the-difference-between-a-generative-and-a-discriminative-algorithm)\n",
        "\n",
        "Ex: Naive Bayes Classifier and Linear Discriminant Analysis (LDA)"
      ]
    },
    {
      "cell_type": "markdown",
      "metadata": {
        "id": "6zTivwS6h4o_",
        "colab_type": "text"
      },
      "source": [
        "#### GAN’s Theory\n",
        "\n",
        "GAN’s are generative models that try to learn the model to generate the input distribution as realistic as possible.\n",
        "\n",
        "In other words, any machine or systems generating new data and any system observing it can no longer tell the difference between what is original and what is generated. Once we have a system that can do that much, we are free to begin generating up new samples that we haven’t even seen before, yet still are believably real data.\n",
        "\n",
        "Now let's talk statistically,  we want our generative model to be able to accurately estimate the probability distribution of our real data. We will say that if we have a parameter `W`, we wish to find the parameter `W` that maximizes the likelihood of real samples. When we train our generative model, we find this ideal parameter `W` such that we minimize the distance between our estimate of what the data distribution is and the actual data distribution.\n",
        "\n",
        "* GAN's end goal is to predict features `X` given a label `Y`, Instead of predicting a label `Y` given features `X`.\n",
        "\n",
        "Eg: If we take any currency notes such as (£, $, or any currency)  images being `X` , then the GAN’s goal is to learn a model that can produce the realistic or believable currency images from the training data X. \n",
        "\n",
        "\n",
        "A GAN consists of two neural networks: \n",
        "![See Figure](https://miro.medium.com/max/1400/1*N4oqJsGmH-KZg3Vqrm_uYw.jpeg)\n",
        "\n",
        "\n"
      ]
    }
  ]
}