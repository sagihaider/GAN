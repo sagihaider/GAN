{
  "nbformat": 4,
  "nbformat_minor": 0,
  "metadata": {
    "colab": {
      "name": "GAN_tutorial.ipynb",
      "version": "0.3.2",
      "provenance": [],
      "collapsed_sections": [],
      "include_colab_link": true
    },
    "kernelspec": {
      "name": "python3",
      "display_name": "Python 3"
    }
  },
  "cells": [
    {
      "cell_type": "markdown",
      "metadata": {
        "id": "view-in-github",
        "colab_type": "text"
      },
      "source": [
        "<a href=\"https://colab.research.google.com/github/sagihaider/GAN/blob/master/GAN_tutorial.ipynb\" target=\"_parent\"><img src=\"https://colab.research.google.com/assets/colab-badge.svg\" alt=\"Open In Colab\"/></a>"
      ]
    },
    {
      "cell_type": "markdown",
      "metadata": {
        "id": "KjSC3A5abRA8",
        "colab_type": "text"
      },
      "source": [
        "## Generative Adversarial Networks (GAN)"
      ]
    },
    {
      "cell_type": "markdown",
      "metadata": {
        "id": "o3-Cua3mcDPt",
        "colab_type": "text"
      },
      "source": [
        "How should  I start about Generative Adversarial Networks (GAN):\n",
        "\n",
        "\"Generative Adversarial Networks is the most intersting in the last 10 years of machine learning.\" ~ *Yann LeChun, Director Facebook AI. *"
      ]
    },
    {
      "cell_type": "markdown",
      "metadata": {
        "id": "xtn8vmisb9rs",
        "colab_type": "text"
      },
      "source": [
        "#### Discriminative vs Generative Models\n",
        "\n",
        "In supervised learning problem:\n",
        "\n",
        "1. x: is generally knows as features, inputs, covariates\n",
        "2. y: is knows as labels, targets, ground truth\n",
        "\n",
        "(x, y) → (features, labels) / (inputs, targets)\n",
        "\n",
        "\n",
        "**Discriminative**\n",
        "\n",
        "Given inputs, we want to build a model that can classify the inputs to the corresponding targets as correct as possible.\n",
        "\n",
        "* Given `x` features this mail is `SPAM` or `Not` ?? It learns the conditional probability distribution. \n",
        "\n",
        "`p(y|x)` -\"the probability of y given x should be maximum.\n",
        "\n",
        "In other words, the model learns to predict the labels from the data. We can also say, it learns the decision boundary between two or multiple classes.\n",
        "\n",
        "* Point to note here: It does not really care about “How the training data is generated/distributed.\n",
        "\n",
        "Ex: Logistic Regression (LR), Support Vector Machine (SVM), conditional random fields (CRFs)\n",
        "\n",
        "\n",
        "\n"
      ]
    },
    {
      "cell_type": "code",
      "metadata": {
        "id": "P16iQMDjbt-1",
        "colab_type": "code",
        "colab": {}
      },
      "source": [
        ""
      ],
      "execution_count": 0,
      "outputs": []
    }
  ]
}